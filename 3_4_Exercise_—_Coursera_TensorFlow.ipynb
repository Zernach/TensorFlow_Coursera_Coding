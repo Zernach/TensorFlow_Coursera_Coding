{
  "nbformat": 4,
  "nbformat_minor": 0,
  "metadata": {
    "accelerator": "GPU",
    "colab": {
      "name": "3-4-Exercise — Coursera TensorFlow.ipynb",
      "provenance": [],
      "include_colab_link": true
    },
    "kernelspec": {
      "display_name": "Python 3",
      "name": "python3"
    }
  },
  "cells": [
    {
      "cell_type": "markdown",
      "metadata": {
        "id": "view-in-github",
        "colab_type": "text"
      },
      "source": [
        "<a href=\"https://colab.research.google.com/github/Zernach/TensorFlow_Coursera_Coding/blob/master/3_4_Exercise_%E2%80%94_Coursera_TensorFlow.ipynb\" target=\"_parent\"><img src=\"https://colab.research.google.com/assets/colab-badge.svg\" alt=\"Open In Colab\"/></a>"
      ]
    },
    {
      "cell_type": "code",
      "metadata": {
        "id": "zX4Kg8DUTKWO",
        "colab_type": "code",
        "colab": {}
      },
      "source": [
        "#@title Licensed under the Apache License, Version 2.0 (the \"License\");\n",
        "# you may not use this file except in compliance with the License.\n",
        "# You may obtain a copy of the License at\n",
        "#\n",
        "# https://www.apache.org/licenses/LICENSE-2.0\n",
        "#\n",
        "# Unless required by applicable law or agreed to in writing, software\n",
        "# distributed under the License is distributed on an \"AS IS\" BASIS,\n",
        "# WITHOUT WARRANTIES OR CONDITIONS OF ANY KIND, either express or implied.\n",
        "# See the License for the specific language governing permissions and\n",
        "# limitations under the License."
      ],
      "execution_count": null,
      "outputs": []
    },
    {
      "cell_type": "code",
      "metadata": {
        "colab_type": "code",
        "id": "BOwsuGQQY9OL",
        "colab": {}
      },
      "source": [
        "from tensorflow.keras.preprocessing.sequence import pad_sequences\n",
        "from tensorflow.keras.layers import Embedding, LSTM, Dense, Dropout, Bidirectional\n",
        "from tensorflow.keras.preprocessing.text import Tokenizer\n",
        "from tensorflow.keras.models import Sequential\n",
        "from tensorflow.keras.optimizers import Adam\n",
        "### YOUR CODE HERE\n",
        "# Figure out how to import regularizers\n",
        "from tensorflow.keras import regularizers\n",
        "import tensorflow.keras.utils as ku \n",
        "import numpy as np "
      ],
      "execution_count": null,
      "outputs": []
    },
    {
      "cell_type": "code",
      "metadata": {
        "colab_type": "code",
        "id": "PRnDnCW-Z7qv",
        "colab": {
          "base_uri": "https://localhost:8080/",
          "height": 204
        },
        "outputId": "99160400-7f6b-4e49-b8e2-da1d78b23ad8"
      },
      "source": [
        "tokenizer = Tokenizer()\n",
        "!wget --no-check-certificate \\\n",
        "    https://storage.googleapis.com/laurencemoroney-blog.appspot.com/sonnets.txt \\\n",
        "    -O /tmp/sonnets.txt\n",
        "data = open('/tmp/sonnets.txt').read()\n",
        "\n",
        "corpus = data.lower().split(\"\\n\")\n",
        "\n",
        "\n",
        "tokenizer.fit_on_texts(corpus)\n",
        "total_words = len(tokenizer.word_index) + 1\n",
        "\n",
        "# create input sequences using list of tokens\n",
        "input_sequences = []\n",
        "for line in corpus:\n",
        "\ttoken_list = tokenizer.texts_to_sequences([line])[0]\n",
        "\tfor i in range(1, len(token_list)):\n",
        "\t\tn_gram_sequence = token_list[:i+1]\n",
        "\t\tinput_sequences.append(n_gram_sequence)\n",
        "\n",
        "\n",
        "# pad sequences \n",
        "max_sequence_len = max([len(x) for x in input_sequences])\n",
        "input_sequences = np.array(pad_sequences(input_sequences, maxlen=max_sequence_len, padding='pre'))\n",
        "\n",
        "# create predictors and label\n",
        "predictors, label = input_sequences[:,:-1],input_sequences[:,-1]\n",
        "\n",
        "label = ku.to_categorical(label, num_classes=total_words)"
      ],
      "execution_count": null,
      "outputs": [
        {
          "output_type": "stream",
          "text": [
            "--2020-07-21 00:13:26--  https://storage.googleapis.com/laurencemoroney-blog.appspot.com/sonnets.txt\n",
            "Resolving storage.googleapis.com (storage.googleapis.com)... 74.125.130.128, 172.217.194.128, 74.125.24.128, ...\n",
            "Connecting to storage.googleapis.com (storage.googleapis.com)|74.125.130.128|:443... connected.\n",
            "HTTP request sent, awaiting response... 200 OK\n",
            "Length: 93578 (91K) [text/plain]\n",
            "Saving to: ‘/tmp/sonnets.txt’\n",
            "\n",
            "\r/tmp/sonnets.txt      0%[                    ]       0  --.-KB/s               \r/tmp/sonnets.txt    100%[===================>]  91.38K  --.-KB/s    in 0.001s  \n",
            "\n",
            "2020-07-21 00:13:26 (136 MB/s) - ‘/tmp/sonnets.txt’ saved [93578/93578]\n",
            "\n"
          ],
          "name": "stdout"
        }
      ]
    },
    {
      "cell_type": "code",
      "metadata": {
        "colab_type": "code",
        "id": "w9vH8Y59ajYL",
        "colab": {
          "base_uri": "https://localhost:8080/",
          "height": 374
        },
        "outputId": "f040008b-eb54-42ea-dd96-7fb7c7663c3d"
      },
      "source": [
        "model = Sequential()\n",
        "model.add(Embedding(total_words, 100, input_length=max_sequence_len - 1))\n",
        "model.add(Bidirectional(LSTM(150, return_sequences=True)))\n",
        "model.add(Dropout(0.2))\n",
        "model.add(LSTM(100))\n",
        "model.add(Dense(total_words, activation='relu', \n",
        "                #kernel_regularizer=regularizers.l2(0.01)\n",
        "                kernel_regularizer=regularizers.l1_l2(l1=1e-5, l2=1e-4), \n",
        "                bias_regularizer=regularizers.l2(1e-4), \n",
        "                activity_regularizer=regularizers.l2(1e-5)))\n",
        "model.add(Dense(total_words, activation='softmax'))\n",
        "\n",
        "model.compile(loss='categorical_crossentropy', optimizer='adam', metrics=['accuracy'])\n",
        "print(model.summary())"
      ],
      "execution_count": null,
      "outputs": [
        {
          "output_type": "stream",
          "text": [
            "Model: \"sequential_4\"\n",
            "_________________________________________________________________\n",
            "Layer (type)                 Output Shape              Param #   \n",
            "=================================================================\n",
            "embedding_4 (Embedding)      (None, 10, 100)           321100    \n",
            "_________________________________________________________________\n",
            "bidirectional_5 (Bidirection (None, 10, 300)           301200    \n",
            "_________________________________________________________________\n",
            "dropout_4 (Dropout)          (None, 10, 300)           0         \n",
            "_________________________________________________________________\n",
            "lstm_9 (LSTM)                (None, 100)               160400    \n",
            "_________________________________________________________________\n",
            "dense_8 (Dense)              (None, 3211)              324311    \n",
            "_________________________________________________________________\n",
            "dense_9 (Dense)              (None, 3211)              10313732  \n",
            "=================================================================\n",
            "Total params: 11,420,743\n",
            "Trainable params: 11,420,743\n",
            "Non-trainable params: 0\n",
            "_________________________________________________________________\n",
            "None\n"
          ],
          "name": "stdout"
        }
      ]
    },
    {
      "cell_type": "code",
      "metadata": {
        "colab_type": "code",
        "id": "AIg2f1HBxqof",
        "colab": {
          "base_uri": "https://localhost:8080/",
          "height": 1000
        },
        "outputId": "800a383d-368a-4782-f4f9-d9b912fca503"
      },
      "source": [
        "history = model.fit(predictors, label, epochs=100, verbose=1)"
      ],
      "execution_count": null,
      "outputs": [
        {
          "output_type": "stream",
          "text": [
            "Epoch 1/100\n",
            "484/484 [==============================] - 6s 12ms/step - loss: 6.8321 - accuracy: 0.0201\n",
            "Epoch 2/100\n",
            "484/484 [==============================] - 6s 12ms/step - loss: 6.4677 - accuracy: 0.0256\n",
            "Epoch 3/100\n",
            "484/484 [==============================] - 6s 12ms/step - loss: 6.2868 - accuracy: 0.0325\n",
            "Epoch 4/100\n",
            "484/484 [==============================] - 6s 12ms/step - loss: 6.0967 - accuracy: 0.0399\n",
            "Epoch 5/100\n",
            "484/484 [==============================] - 6s 12ms/step - loss: 5.8783 - accuracy: 0.0466\n",
            "Epoch 6/100\n",
            "484/484 [==============================] - 6s 12ms/step - loss: 5.6389 - accuracy: 0.0586\n",
            "Epoch 7/100\n",
            "484/484 [==============================] - 6s 12ms/step - loss: 5.4082 - accuracy: 0.0686\n",
            "Epoch 8/100\n",
            "484/484 [==============================] - 6s 12ms/step - loss: 5.1742 - accuracy: 0.0819\n",
            "Epoch 9/100\n",
            "484/484 [==============================] - 6s 12ms/step - loss: 4.9233 - accuracy: 0.0957\n",
            "Epoch 10/100\n",
            "484/484 [==============================] - 6s 12ms/step - loss: 4.6502 - accuracy: 0.1105\n",
            "Epoch 11/100\n",
            "484/484 [==============================] - 6s 12ms/step - loss: 4.3516 - accuracy: 0.1307\n",
            "Epoch 12/100\n",
            "484/484 [==============================] - 6s 12ms/step - loss: 4.0394 - accuracy: 0.1587\n",
            "Epoch 13/100\n",
            "484/484 [==============================] - 6s 12ms/step - loss: 3.7430 - accuracy: 0.2013\n",
            "Epoch 14/100\n",
            "484/484 [==============================] - 6s 12ms/step - loss: 3.4319 - accuracy: 0.2522\n",
            "Epoch 15/100\n",
            "484/484 [==============================] - 6s 12ms/step - loss: 3.1493 - accuracy: 0.2981\n",
            "Epoch 16/100\n",
            "484/484 [==============================] - 6s 12ms/step - loss: 2.8816 - accuracy: 0.3578\n",
            "Epoch 17/100\n",
            "484/484 [==============================] - 6s 12ms/step - loss: 2.6430 - accuracy: 0.4064\n",
            "Epoch 18/100\n",
            "484/484 [==============================] - 6s 12ms/step - loss: 2.4279 - accuracy: 0.4517\n",
            "Epoch 19/100\n",
            "484/484 [==============================] - 6s 12ms/step - loss: 2.2285 - accuracy: 0.4962\n",
            "Epoch 20/100\n",
            "484/484 [==============================] - 6s 12ms/step - loss: 2.0565 - accuracy: 0.5396\n",
            "Epoch 21/100\n",
            "484/484 [==============================] - 6s 12ms/step - loss: 1.9000 - accuracy: 0.5770\n",
            "Epoch 22/100\n",
            "484/484 [==============================] - 6s 12ms/step - loss: 1.7664 - accuracy: 0.6090\n",
            "Epoch 23/100\n",
            "484/484 [==============================] - 6s 12ms/step - loss: 1.6467 - accuracy: 0.6345\n",
            "Epoch 24/100\n",
            "484/484 [==============================] - 6s 12ms/step - loss: 1.5532 - accuracy: 0.6608\n",
            "Epoch 25/100\n",
            "484/484 [==============================] - 6s 12ms/step - loss: 1.4533 - accuracy: 0.6830\n",
            "Epoch 26/100\n",
            "484/484 [==============================] - 6s 12ms/step - loss: 1.3753 - accuracy: 0.7037\n",
            "Epoch 27/100\n",
            "484/484 [==============================] - 6s 12ms/step - loss: 1.3060 - accuracy: 0.7264\n",
            "Epoch 28/100\n",
            "484/484 [==============================] - 6s 12ms/step - loss: 1.2480 - accuracy: 0.7364\n",
            "Epoch 29/100\n",
            "484/484 [==============================] - 6s 12ms/step - loss: 1.1964 - accuracy: 0.7515\n",
            "Epoch 30/100\n",
            "484/484 [==============================] - 6s 12ms/step - loss: 1.1615 - accuracy: 0.7626\n",
            "Epoch 31/100\n",
            "484/484 [==============================] - 6s 12ms/step - loss: 1.1209 - accuracy: 0.7717\n",
            "Epoch 32/100\n",
            "484/484 [==============================] - 6s 12ms/step - loss: 1.0915 - accuracy: 0.7787\n",
            "Epoch 33/100\n",
            "484/484 [==============================] - 6s 12ms/step - loss: 1.0621 - accuracy: 0.7848\n",
            "Epoch 34/100\n",
            "484/484 [==============================] - 6s 12ms/step - loss: 1.0244 - accuracy: 0.7931\n",
            "Epoch 35/100\n",
            "484/484 [==============================] - 6s 12ms/step - loss: 1.0086 - accuracy: 0.7971\n",
            "Epoch 36/100\n",
            "484/484 [==============================] - 6s 12ms/step - loss: 1.0076 - accuracy: 0.7989\n",
            "Epoch 37/100\n",
            "484/484 [==============================] - 6s 12ms/step - loss: 0.9746 - accuracy: 0.8073\n",
            "Epoch 38/100\n",
            "484/484 [==============================] - 6s 13ms/step - loss: 0.9602 - accuracy: 0.8088\n",
            "Epoch 39/100\n",
            "484/484 [==============================] - 6s 12ms/step - loss: 0.9477 - accuracy: 0.8102\n",
            "Epoch 40/100\n",
            "484/484 [==============================] - 6s 12ms/step - loss: 0.9310 - accuracy: 0.8148\n",
            "Epoch 41/100\n",
            "484/484 [==============================] - 6s 12ms/step - loss: 0.9096 - accuracy: 0.8202\n",
            "Epoch 42/100\n",
            "484/484 [==============================] - 6s 12ms/step - loss: 0.9038 - accuracy: 0.8209\n",
            "Epoch 43/100\n",
            "484/484 [==============================] - 6s 12ms/step - loss: 0.9074 - accuracy: 0.8181\n",
            "Epoch 44/100\n",
            "484/484 [==============================] - 6s 12ms/step - loss: 0.8969 - accuracy: 0.8199\n",
            "Epoch 45/100\n",
            "484/484 [==============================] - 6s 12ms/step - loss: 0.8858 - accuracy: 0.8210\n",
            "Epoch 46/100\n",
            "484/484 [==============================] - 6s 12ms/step - loss: 0.8917 - accuracy: 0.8192\n",
            "Epoch 47/100\n",
            "484/484 [==============================] - 6s 12ms/step - loss: 0.8559 - accuracy: 0.8292\n",
            "Epoch 48/100\n",
            "484/484 [==============================] - 6s 12ms/step - loss: 0.8500 - accuracy: 0.8292\n",
            "Epoch 49/100\n",
            "484/484 [==============================] - 6s 12ms/step - loss: 0.8440 - accuracy: 0.8304\n",
            "Epoch 50/100\n",
            "484/484 [==============================] - 6s 12ms/step - loss: 0.8285 - accuracy: 0.8349\n",
            "Epoch 51/100\n",
            "484/484 [==============================] - 6s 12ms/step - loss: 0.8233 - accuracy: 0.8340\n",
            "Epoch 52/100\n",
            "484/484 [==============================] - 6s 12ms/step - loss: 0.8245 - accuracy: 0.8322\n",
            "Epoch 53/100\n",
            "484/484 [==============================] - 6s 12ms/step - loss: 0.8235 - accuracy: 0.8327\n",
            "Epoch 54/100\n",
            "484/484 [==============================] - 6s 12ms/step - loss: 0.8300 - accuracy: 0.8299\n",
            "Epoch 55/100\n",
            "484/484 [==============================] - 6s 12ms/step - loss: 0.8116 - accuracy: 0.8312\n",
            "Epoch 56/100\n",
            "484/484 [==============================] - 6s 12ms/step - loss: 0.7939 - accuracy: 0.8382\n",
            "Epoch 57/100\n",
            "484/484 [==============================] - 6s 12ms/step - loss: 0.7891 - accuracy: 0.8378\n",
            "Epoch 58/100\n",
            "484/484 [==============================] - 6s 12ms/step - loss: 0.7995 - accuracy: 0.8322\n",
            "Epoch 59/100\n",
            "484/484 [==============================] - 6s 12ms/step - loss: 0.8031 - accuracy: 0.8315\n",
            "Epoch 60/100\n",
            "484/484 [==============================] - 6s 12ms/step - loss: 0.7813 - accuracy: 0.8379\n",
            "Epoch 61/100\n",
            "484/484 [==============================] - 6s 12ms/step - loss: 0.7799 - accuracy: 0.8382\n",
            "Epoch 62/100\n",
            "484/484 [==============================] - 6s 12ms/step - loss: 0.7688 - accuracy: 0.8407\n",
            "Epoch 63/100\n",
            "484/484 [==============================] - 6s 12ms/step - loss: 0.7643 - accuracy: 0.8396\n",
            "Epoch 64/100\n",
            "484/484 [==============================] - 6s 12ms/step - loss: 0.7723 - accuracy: 0.8374\n",
            "Epoch 65/100\n",
            "484/484 [==============================] - 6s 12ms/step - loss: 0.7780 - accuracy: 0.8348\n",
            "Epoch 66/100\n",
            "484/484 [==============================] - 6s 12ms/step - loss: 0.7717 - accuracy: 0.8344\n",
            "Epoch 67/100\n",
            "484/484 [==============================] - 6s 12ms/step - loss: 0.7549 - accuracy: 0.8396\n",
            "Epoch 68/100\n",
            "484/484 [==============================] - 6s 12ms/step - loss: 0.7578 - accuracy: 0.8375\n",
            "Epoch 69/100\n",
            "484/484 [==============================] - 6s 12ms/step - loss: 0.7586 - accuracy: 0.8366\n",
            "Epoch 70/100\n",
            "484/484 [==============================] - 6s 12ms/step - loss: 0.7740 - accuracy: 0.8331\n",
            "Epoch 71/100\n",
            "484/484 [==============================] - 6s 12ms/step - loss: 0.7389 - accuracy: 0.8432\n",
            "Epoch 72/100\n",
            "484/484 [==============================] - 6s 12ms/step - loss: 0.7517 - accuracy: 0.8398\n",
            "Epoch 73/100\n",
            "484/484 [==============================] - 6s 12ms/step - loss: 0.7356 - accuracy: 0.8412\n",
            "Epoch 74/100\n",
            "484/484 [==============================] - 6s 12ms/step - loss: 0.7307 - accuracy: 0.8426\n",
            "Epoch 75/100\n",
            "484/484 [==============================] - 6s 12ms/step - loss: 0.7305 - accuracy: 0.8420\n",
            "Epoch 76/100\n",
            "484/484 [==============================] - 6s 12ms/step - loss: 0.7250 - accuracy: 0.8410\n",
            "Epoch 77/100\n",
            "484/484 [==============================] - 6s 12ms/step - loss: 0.7380 - accuracy: 0.8388\n",
            "Epoch 78/100\n",
            "484/484 [==============================] - 6s 12ms/step - loss: 0.7339 - accuracy: 0.8383\n",
            "Epoch 79/100\n",
            "484/484 [==============================] - 6s 12ms/step - loss: 0.7304 - accuracy: 0.8392\n",
            "Epoch 80/100\n",
            "484/484 [==============================] - 6s 12ms/step - loss: 0.7175 - accuracy: 0.8440\n",
            "Epoch 81/100\n",
            "484/484 [==============================] - 6s 12ms/step - loss: 0.7206 - accuracy: 0.8429\n",
            "Epoch 82/100\n",
            "484/484 [==============================] - 6s 12ms/step - loss: 0.7203 - accuracy: 0.8412\n",
            "Epoch 83/100\n",
            "484/484 [==============================] - 6s 12ms/step - loss: 0.7247 - accuracy: 0.8389\n",
            "Epoch 84/100\n",
            "484/484 [==============================] - 6s 12ms/step - loss: 0.7167 - accuracy: 0.8408\n",
            "Epoch 85/100\n",
            "484/484 [==============================] - 6s 12ms/step - loss: 0.7080 - accuracy: 0.8449\n",
            "Epoch 86/100\n",
            "484/484 [==============================] - 6s 12ms/step - loss: 0.7058 - accuracy: 0.8429\n",
            "Epoch 87/100\n",
            "484/484 [==============================] - 6s 12ms/step - loss: 0.7100 - accuracy: 0.8410\n",
            "Epoch 88/100\n",
            "484/484 [==============================] - 6s 12ms/step - loss: 0.7256 - accuracy: 0.8370\n",
            "Epoch 89/100\n",
            "484/484 [==============================] - 6s 12ms/step - loss: 0.7234 - accuracy: 0.8374\n",
            "Epoch 90/100\n",
            "484/484 [==============================] - 6s 12ms/step - loss: 0.7134 - accuracy: 0.8397\n",
            "Epoch 91/100\n",
            "484/484 [==============================] - 6s 12ms/step - loss: 0.6983 - accuracy: 0.8437\n",
            "Epoch 92/100\n",
            "484/484 [==============================] - 6s 12ms/step - loss: 0.6997 - accuracy: 0.8419\n",
            "Epoch 93/100\n",
            "484/484 [==============================] - 6s 12ms/step - loss: 0.6964 - accuracy: 0.8424\n",
            "Epoch 94/100\n",
            "484/484 [==============================] - 6s 12ms/step - loss: 0.7050 - accuracy: 0.8416\n",
            "Epoch 95/100\n",
            "484/484 [==============================] - 6s 12ms/step - loss: 0.7088 - accuracy: 0.8387\n",
            "Epoch 96/100\n",
            "484/484 [==============================] - 6s 12ms/step - loss: 0.6994 - accuracy: 0.8415\n",
            "Epoch 97/100\n",
            "484/484 [==============================] - 6s 12ms/step - loss: 0.6982 - accuracy: 0.8425\n",
            "Epoch 98/100\n",
            "484/484 [==============================] - 6s 12ms/step - loss: 0.6956 - accuracy: 0.8418\n",
            "Epoch 99/100\n",
            "484/484 [==============================] - 6s 12ms/step - loss: 0.6908 - accuracy: 0.8434\n",
            "Epoch 100/100\n",
            "484/484 [==============================] - 6s 12ms/step - loss: 0.6904 - accuracy: 0.8432\n"
          ],
          "name": "stdout"
        }
      ]
    },
    {
      "cell_type": "code",
      "metadata": {
        "colab_type": "code",
        "id": "1fXTEO3GJ282",
        "colab": {
          "base_uri": "https://localhost:8080/",
          "height": 545
        },
        "outputId": "69dd4380-e89d-4b1c-df90-3db1bff64b18"
      },
      "source": [
        "import matplotlib.pyplot as plt\n",
        "acc = history.history['accuracy']\n",
        "loss = history.history['loss']\n",
        "\n",
        "epochs = range(len(acc))\n",
        "\n",
        "plt.plot(epochs, acc, 'b', label='Training accuracy')\n",
        "plt.title('Training accuracy')\n",
        "\n",
        "plt.figure()\n",
        "\n",
        "plt.plot(epochs, loss, 'b', label='Training Loss')\n",
        "plt.title('Training loss')\n",
        "plt.legend()\n",
        "\n",
        "plt.show()"
      ],
      "execution_count": null,
      "outputs": [
        {
          "output_type": "display_data",
          "data": {
            "image/png": "[encoded data removed]",
            "text/plain": [
              "<Figure size 432x288 with 1 Axes>"
            ]
          },
          "metadata": {
            "tags": [],
            "needs_background": "light"
          }
        },
        {
          "output_type": "display_data",
          "data": {
            "image/png": "[encoded data removed]",
            "text/plain": [
              "<Figure size 432x288 with 1 Axes>"
            ]
          },
          "metadata": {
            "tags": [],
            "needs_background": "light"
          }
        }
      ]
    },
    {
      "cell_type": "code",
      "metadata": {
        "colab_type": "code",
        "id": "6Vc6PHgxa6Hm",
        "colab": {
          "base_uri": "https://localhost:8080/",
          "height": 105
        },
        "outputId": "0c347cb1-c20d-41a7-d014-3884b03754e2"
      },
      "source": [
        "seed_text = \"Help me Obi Wan Kenobi, you're my only hope\"\n",
        "next_words = 100\n",
        "  \n",
        "for _ in range(next_words):\n",
        "\ttoken_list = tokenizer.texts_to_sequences([seed_text])[0]\n",
        "\ttoken_list = pad_sequences([token_list], maxlen=max_sequence_len-1, padding='pre')\n",
        "\tpredicted = model.predict_classes(token_list, verbose=0)\n",
        "\toutput_word = \"\"\n",
        "\tfor word, index in tokenizer.word_index.items():\n",
        "\t\tif index == predicted:\n",
        "\t\t\toutput_word = word\n",
        "\t\t\tbreak\n",
        "\tseed_text += \" \" + output_word\n",
        "print(seed_text)"
      ],
      "execution_count": null,
      "outputs": [
        {
          "output_type": "stream",
          "text": [
            "WARNING:tensorflow:From <ipython-input-17-622d307fa19a>:7: Sequential.predict_classes (from tensorflow.python.keras.engine.sequential) is deprecated and will be removed after 2021-01-01.\n",
            "Instructions for updating:\n",
            "Please use instead:* `np.argmax(model.predict(x), axis=-1)`,   if your model does multi-class classification   (e.g. if it uses a `softmax` last-layer activation).* `(model.predict(x) > 0.5).astype(\"int32\")`,   if your model does binary classification   (e.g. if it uses a `sigmoid` last-layer activation).\n",
            "Help me Obi Wan Kenobi, you're my only hope the the the the the the the the the the the the the the the the the the the the the the the the the the the the the the the the the the the the the the the the the the the the the the the the the the the the the the the the the the the the the the the the the the the the the the the the the the the the the the the the the the the the the the the the the the the the the the the the the the the the\n"
          ],
          "name": "stdout"
        }
      ]
    }
  ]
}